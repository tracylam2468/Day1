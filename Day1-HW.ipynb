{
 "cells": [
  {
   "cell_type": "markdown",
   "id": "45d670de-3223-4eee-b4fe-46a89d78d388",
   "metadata": {},
   "source": [
    "## Introduction to Data Science\n",
    "\n",
    "#### University of Redlands - DATA 101\n",
    "#### Prof: Joanna Bieri [joanna_bieri@redlands.edu](mailto:joanna_bieri@redlands.edu)\n",
    "#### [Class Website: data101.joannabieri.com](https://joannabieri.com/data101.html)"
   ]
  },
  {
   "cell_type": "markdown",
   "id": "c4e2e481-e56c-4e48-bc1e-52ba4c09e8e1",
   "metadata": {},
   "source": [
    "---------------------------------------\n",
    "# Homework Day 1\n",
    "---------------------------------------\n",
    "\n",
    "GOALS:\n",
    "\n",
    "1. Start exploring JupyterLab Notebooks.\n",
    "2. Start thinking about your data science goals.\n",
    "3. Practice writing up and handing in homework for this class.\n",
    "\n",
    "----------------------------------------------------------\n",
    "## JupyterLab Notebook \n",
    "#### (aka Jupyter Notebook, Notebook, the code, .ipynb)\n",
    "\n",
    "All of our assignments will be written up in Jupyter Notebooks. You notebook should contain two types of cells:\n",
    "\n",
    "* Markdown - where you can write text explaining your work and your thoughts\n",
    "* Code - where you will make Python do the calculations for you"
   ]
  },
  {
   "cell_type": "markdown",
   "id": "6af55a14-58f8-4a13-a212-708bd0409a94",
   "metadata": {},
   "source": [
    "#### This is a Markdown cell (double click here to edit!)"
   ]
  },
  {
   "cell_type": "code",
   "execution_count": 2,
   "id": "4e71cc3e-6dfe-476b-81a3-8f2df734eb8c",
   "metadata": {},
   "outputs": [
    {
     "data": {
      "text/plain": [
       "2"
      ]
     },
     "execution_count": 2,
     "metadata": {},
     "output_type": "execute_result"
    }
   ],
   "source": [
    "# This is a code cell and since this lines starts with a hashtag it is a comment\n",
    "# You can add words or do calculations\n",
    "# I run it using the play button or holding down SHIFT while I press ENTER.\n",
    "\n",
    "1+1"
   ]
  },
  {
   "cell_type": "markdown",
   "id": "ef74a451-215a-44fc-82bb-9b438ba160a5",
   "metadata": {},
   "source": [
    "### Problem 1.\n",
    "\n",
    "In the cell below discuss your first impressions of this course. How are you feeling about it so far? What are you most excited for? What are you most afraid of?"
   ]
  },
  {
   "cell_type": "markdown",
   "id": "09966df7-537c-4eff-99db-34e867e29b86",
   "metadata": {},
   "source": [
    "# At first, I was a bit nervous because of the whole installation process, but now I'm excited to learn and try new things! I'm afraid of falling behind and getting confused since I lack experience compared to my other classmates, but I know that if this occurs, I shouldn't be afraid to meet with Dr. Bieri during office hours, work together with my classmates, or ask my TA for help."
   ]
  },
  {
   "cell_type": "markdown",
   "id": "ebaf9947-f5cc-495d-8d02-ddfb3e24b0a5",
   "metadata": {},
   "source": [
    "### Problem 2.\n",
    "\n",
    "What are some of your strengths that you bring to the class? This can be academic strengths, personal strengths, cultural strengths, experiences, etc."
   ]
  },
  {
   "cell_type": "markdown",
   "id": "b0a303cb-3230-4b14-a715-6a42e82b9a48",
   "metadata": {},
   "source": [
    "# My academic strength is that I'm easy to talk to so I feel like I would be helpful during group assignments. Since I lack expereince, I believe that this will motivate me harder so I can expand my knowledge and benefit my future."
   ]
  },
  {
   "cell_type": "markdown",
   "id": "665c8dfb-8b60-45a1-b2c3-8844199edeb8",
   "metadata": {},
   "source": [
    "### Problem 3.\n",
    "\n",
    "Try running the cells below to see what they do! Type in words for your comment about what the cell does.\n",
    "\n",
    "You can run a cell using the play button at the top of the page or by holding down SHIFT and pressing ENTER."
   ]
  },
  {
   "cell_type": "code",
   "execution_count": 16,
   "id": "bc4f5a8b-fcc5-4f99-8c7f-d7979dda7f0d",
   "metadata": {},
   "outputs": [
    {
     "data": {
      "text/plain": [
       "7"
      ]
     },
     "execution_count": 16,
     "metadata": {},
     "output_type": "execute_result"
    }
   ],
   "source": [
    "# After I went to click play, this cell created another cell underneath with the answer for the given expression.\n",
    "2+5"
   ]
  },
  {
   "cell_type": "code",
   "execution_count": 20,
   "id": "92591289-e834-4149-af91-d38241405f41",
   "metadata": {},
   "outputs": [
    {
     "data": {
      "text/plain": [
       "10"
      ]
     },
     "execution_count": 20,
     "metadata": {},
     "output_type": "execute_result"
    }
   ],
   "source": [
    "# The play button multiplied 2 by 5, and provided an answer underneath this cell.\n",
    "2*5"
   ]
  },
  {
   "cell_type": "code",
   "execution_count": 8,
   "id": "ac48415a-b7da-446f-adea-4b59c0aa05c0",
   "metadata": {},
   "outputs": [
    {
     "data": {
      "text/plain": [
       "0.4"
      ]
     },
     "execution_count": 8,
     "metadata": {},
     "output_type": "execute_result"
    }
   ],
   "source": [
    "# The play button allowed a new cell to be created underneath this one and gave a decimal answer to the division expression given.\n",
    "2/5"
   ]
  },
  {
   "cell_type": "code",
   "execution_count": 10,
   "id": "5b1dd9ff-088c-410a-9b6c-4a2700256a42",
   "metadata": {},
   "outputs": [
    {
     "data": {
      "text/plain": [
       "32"
      ]
     },
     "execution_count": 10,
     "metadata": {},
     "output_type": "execute_result"
    }
   ],
   "source": [
    "# The two star symbols were translated into an exponent symbol and provided an asnwer to the expression given in a new cell below.\n",
    "2**5"
   ]
  },
  {
   "cell_type": "code",
   "execution_count": 12,
   "id": "fe55cb71-0eb1-4967-9c10-064f5bcf8c10",
   "metadata": {},
   "outputs": [
    {
     "data": {
      "text/plain": [
       "55"
      ]
     },
     "execution_count": 12,
     "metadata": {},
     "output_type": "execute_result"
    }
   ],
   "source": [
    "# The sums were able to all be added up due to the key word, \"sum\", and the bracket, commas, and perentheses symbols helped to separate each number to be added correctly \n",
    "sum([1,2,3,4,5,6,7,8,9,10])"
   ]
  },
  {
   "cell_type": "markdown",
   "id": "6bf2d7c9-1470-4c27-964d-0905d6337f65",
   "metadata": {},
   "source": [
    "### Problem 4.\n",
    "\n",
    "Write code that will do the following calculation:\n",
    "\n",
    "$$\n",
    "\\frac{3(2+9)}{2^2}\n",
    "$$\n",
    "\n",
    "Answer: 8.25"
   ]
  },
  {
   "cell_type": "code",
   "execution_count": 6,
   "id": "33863654-6774-459c-a608-ccde35d2277c",
   "metadata": {},
   "outputs": [
    {
     "data": {
      "text/plain": [
       "8.25"
      ]
     },
     "execution_count": 6,
     "metadata": {},
     "output_type": "execute_result"
    }
   ],
   "source": [
    "3*(2+9)/2**2\n",
    "\n"
   ]
  },
  {
   "cell_type": "markdown",
   "id": "67c3e308-5c13-4840-b6e4-2c8b82279b11",
   "metadata": {},
   "source": [
    "### Problem 5.\n",
    "\n",
    "Now save your changes to your GitHub account:\n",
    "\n",
    "* Click on the Git tab and **Stage** your changes. Use the (+) icon next to the file name Day1-HW.ipynb\n",
    "* Make a summary of your changes \"My first DS homework\" and press **Commit**\n",
    "* Then use the cloud icon to **Push** your changes to GitHub\n",
    "* (optional) Go to GitHub and check that the changes have been made."
   ]
  }
 ],
 "metadata": {
  "kernelspec": {
   "display_name": "Python 3 (ipykernel)",
   "language": "python",
   "name": "python3"
  },
  "language_info": {
   "codemirror_mode": {
    "name": "ipython",
    "version": 3
   },
   "file_extension": ".py",
   "mimetype": "text/x-python",
   "name": "python",
   "nbconvert_exporter": "python",
   "pygments_lexer": "ipython3",
   "version": "3.12.2"
  }
 },
 "nbformat": 4,
 "nbformat_minor": 5
}
